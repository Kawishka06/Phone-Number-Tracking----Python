{
 "cells": [
  {
   "cell_type": "code",
   "execution_count": null,
   "id": "52af1056",
   "metadata": {},
   "outputs": [],
   "source": [
    "import phonenumbers as ph\n",
    "from phonenumbers import timezone,geocoder,carrier,region_code_for_number\n",
    "from phonenumbers import number_type,PhoneNumberType\n"
   ]
  },
  {
   "cell_type": "code",
   "execution_count": null,
   "id": "b55f1d0f",
   "metadata": {},
   "outputs": [],
   "source": [
    "phone_num=input(\"Enter the phone number with the country code: \\n\")\n"
   ]
  },
  {
   "cell_type": "code",
   "execution_count": null,
   "id": "28b63ab5",
   "metadata": {},
   "outputs": [],
   "source": [
    "num=ph.parse(phone_num)"
   ]
  },
  {
   "cell_type": "code",
   "execution_count": null,
   "id": "f9535559",
   "metadata": {},
   "outputs": [],
   "source": [
    "def possible(num):\n",
    "    if ph.is_possible_number(num):\n",
    "        return \"Yes\"\n",
    "    else:\n",
    "        return \"No\""
   ]
  },
  {
   "cell_type": "code",
   "execution_count": null,
   "id": "16d3eba1",
   "metadata": {},
   "outputs": [],
   "source": [
    "def validity(num):\n",
    "    if ph.is_valid_number(num):\n",
    "        return \"Yes\"\n",
    "    else:\n",
    "        return \"No\""
   ]
  },
  {
   "cell_type": "code",
   "execution_count": null,
   "id": "20feea55",
   "metadata": {},
   "outputs": [],
   "source": [
    "tz=timezone.time_zones_for_number(num)"
   ]
  },
  {
   "cell_type": "code",
   "execution_count": null,
   "id": "d6f53850",
   "metadata": {},
   "outputs": [],
   "source": [
    "geo_loc=geocoder.description_for_number(num,\"en\")"
   ]
  },
  {
   "cell_type": "code",
   "execution_count": null,
   "id": "b64f46a0",
   "metadata": {},
   "outputs": [],
   "source": [
    "service_prov=carrier.name_for_number(num,\"en\")"
   ]
  },
  {
   "cell_type": "code",
   "execution_count": null,
   "id": "e3be12b3",
   "metadata": {},
   "outputs": [],
   "source": [
    "def num_type(num):\n",
    "    type=number_type(num)\n",
    "    if type==PhoneNumberType.MOBILE:\n",
    "        return \"Mobile\"\n",
    "    elif type==PhoneNumberType.FIXED_LINE:\n",
    "        return \"Fixed Line/Land Line\"\n",
    "    elif type==PhoneNumberType.TOLL_FREE:\n",
    "        return \"Toll Free\"\n",
    "    elif type==PhoneNumberType.PERSONAL_NUMBER:\n",
    "        return \"Personal Number\"\n",
    "    elif type==PhoneNumberType.PREMIUM_RATE:\n",
    "        return \"Premium Rate\"\n",
    "    elif type==PhoneNumberType.UNKNOWN:\n",
    "        return \"Unknown\"\n",
    "    else:\n",
    "        return str(type)\n",
    "    \n"
   ]
  },
  {
   "cell_type": "code",
   "execution_count": null,
   "id": "df1cc26b",
   "metadata": {},
   "outputs": [],
   "source": [
    "print(\"Details about the provided number:\")\n",
    "print(\"Country Code: +\",num.country_code)\n",
    "print(\"Phone Number: \",num.national_number)\n",
    "print(\"Time Zone: \"+str(tz))\n",
    "print(\"Location: \"+geo_loc)\n",
    "print(\"Region: \",region_code_for_number(num))\n",
    "print(\"Service Provider: \",service_prov)\n",
    "print(\"Number Type: \",num_type(num))\n",
    "print(\"Valid Number ?: \",validity(num))\n",
    "print(\"Possible Number: \"+possible(num))\n",
    "\n"
   ]
  },
  {
   "cell_type": "code",
   "execution_count": null,
   "id": "d51b0991",
   "metadata": {},
   "outputs": [],
   "source": []
  }
 ],
 "metadata": {
  "kernelspec": {
   "display_name": "Python 3",
   "language": "python",
   "name": "python3"
  },
  "language_info": {
   "codemirror_mode": {
    "name": "ipython",
    "version": 3
   },
   "file_extension": ".py",
   "mimetype": "text/x-python",
   "name": "python",
   "nbconvert_exporter": "python",
   "pygments_lexer": "ipython3",
   "version": "3.13.5"
  }
 },
 "nbformat": 4,
 "nbformat_minor": 5
}
